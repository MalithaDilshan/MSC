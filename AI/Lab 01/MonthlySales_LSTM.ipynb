{
  "nbformat": 4,
  "nbformat_minor": 0,
  "metadata": {
    "colab": {
      "provenance": []
    },
    "kernelspec": {
      "name": "python3",
      "display_name": "Python 3"
    },
    "language_info": {
      "name": "python"
    }
  },
  "cells": [
    {
      "cell_type": "code",
      "execution_count": null,
      "metadata": {
        "id": "8CKLaWIBqZH0"
      },
      "outputs": [],
      "source": [
        "import numpy as np\n",
        "import pandas as pd\n",
        "import seaborn as sns\n",
        "from pylab import rcParams\n",
        "import matplotlib.pyplot as plt\n",
        "from matplotlib import rc\n",
        "from tensorflow.keras.models import Sequential\n",
        "from tensorflow.keras.layers import LSTM\n",
        "from tensorflow.keras.layers import Dense\n",
        "from tensorflow.keras.optimizers import Adam\n"
      ]
    },
    {
      "cell_type": "code",
      "source": [
        "%matplotlib inline\n",
        "%config InlienBackend.figure_format='retina'\n",
        "sns.set(style='whitegrid', palette='muted', font_scale=1.5)"
      ],
      "metadata": {
        "id": "LIyD2zAiyabN"
      },
      "execution_count": null,
      "outputs": []
    },
    {
      "cell_type": "code",
      "source": [
        "from google.colab import files\n",
        "uploaded = files.upload()\n",
        "df = pd.read_csv(\"Monthly Sales Data.csv\")"
      ],
      "metadata": {
        "id": "L6wAwHVqzCDP"
      },
      "execution_count": null,
      "outputs": []
    },
    {
      "cell_type": "code",
      "source": [
        "keep_columns=['RSXFSN']\n",
        "df=df[keep_columns]\n",
        "#rescaling the values\n",
        "df=df/10000"
      ],
      "metadata": {
        "id": "3HBfWv0fy09V"
      },
      "execution_count": null,
      "outputs": []
    },
    {
      "cell_type": "code",
      "source": [
        "#2. Set Training & Test Data (80:20)\n",
        "n_train = int(len(df) * 0.8)\n",
        "n_test = len(df) - n_train\n",
        "train, test = df.iloc[0:n_train], df.iloc[n_train:len(df)]\n",
        "print(len(train),len(test))\n",
        "\n"
      ],
      "metadata": {
        "id": "cEXGBFNOylVY"
      },
      "execution_count": null,
      "outputs": []
    },
    {
      "cell_type": "code",
      "source": [
        "#3. Convert to Time Series Data\n",
        "def get_timeseries(x, n_steps=1):\n",
        "    x_ts, y_ts = [], []\n",
        "    for ii in range(len(x) - n_steps):\n",
        "        v = x.iloc[ii:(ii + n_steps)].values\n",
        "        x_ts.append(v)\n",
        "        w = x.iloc[ii + n_steps].values\n",
        "        y_ts.append(w)\n",
        "    return np.array(x_ts), np.array(y_ts)\n"
      ],
      "metadata": {
        "id": "2DOIkxbeypmW"
      },
      "execution_count": null,
      "outputs": []
    },
    {
      "cell_type": "code",
      "source": [
        "n_steps = 12\n",
        "n_features=1\n",
        "x_train, y_train = get_timeseries(train, n_steps)\n",
        "x_test, y_test = get_timeseries(test,n_steps)\n",
        "\n",
        "print(x_train.shape,y_train.shape)"
      ],
      "metadata": {
        "id": "iHxKarAJzbnW"
      },
      "execution_count": null,
      "outputs": []
    },
    {
      "cell_type": "code",
      "source": [
        "#4. Setup Neural Network\n",
        "from keras.optimizers import Adam\n",
        "\n",
        "model = Sequential()\n",
        "model.add(LSTM(units=16, activation='relu', input_shape=(x_train.shape[1], x_train.shape[2])))\n",
        "model.add(Dense(1))\n",
        "\n",
        "print(model.summary())\n",
        "\n",
        "#Set the training parameters: loss and the optimizer\n",
        "model.compile(loss='mean_squared_error',optimizer=Adam(0.001))"
      ],
      "metadata": {
        "id": "ls3LdmRAyteO"
      },
      "execution_count": null,
      "outputs": []
    },
    {
      "cell_type": "code",
      "source": [
        "#5. Fit Model\n",
        "history = model.fit(x_train, y_train,epochs=500,batch_size=32,validation_split=0.1)"
      ],
      "metadata": {
        "id": "Ihphh2LmyvFW"
      },
      "execution_count": null,
      "outputs": []
    },
    {
      "cell_type": "code",
      "source": [
        "# Plot training & validation loss values\n",
        "plt.figure(figsize=(10, 6))\n",
        "plt.plot(history.history['loss'], label='Training Loss')\n",
        "plt.plot(history.history['val_loss'], label='Validation Loss')\n",
        "plt.title('Model Loss over Epochs')\n",
        "plt.ylabel('Loss')\n",
        "plt.xlabel('Epoch')\n",
        "plt.legend()\n",
        "plt.grid(True)\n",
        "plt.show()"
      ],
      "metadata": {
        "id": "JYK99lI1rzdz"
      },
      "execution_count": null,
      "outputs": []
    },
    {
      "cell_type": "code",
      "source": [
        "y_pred=model.predict(x_test)"
      ],
      "metadata": {
        "id": "G6kFt7r-5uUs"
      },
      "execution_count": null,
      "outputs": []
    },
    {
      "cell_type": "code",
      "source": [
        "#6. Evaluation (Training Data)\n",
        "#plt.plot(np.arange(0,len(y_train)),'g',label='History')\n",
        "plt.plot(np.arange(len(y_train),len(y_train)+len(y_test)),y_test,marker='.',label='Actual Data')\n",
        "plt.plot(np.arange(len(y_train),len(y_train)+len(y_test)),y_pred,'r',label='Prediction')\n",
        "plt.title('Training: Actual vs Predicted')\n",
        "plt.ylabel('Retail Sales')\n",
        "plt.xlabel('Period')\n",
        "plt.legend()\n",
        "plt.show()"
      ],
      "metadata": {
        "id": "bRjU2_QRywam"
      },
      "execution_count": null,
      "outputs": []
    },
    {
      "cell_type": "code",
      "source": [
        "#7. Evaluation (Test Data)\n",
        "\n",
        "plt.plot(y_test, marker='.', label=\"Actual Data\")\n",
        "plt.plot(y_pred, 'r', label=\"Prediction\")\n",
        "plt.title('Testing: Actual vs Predicted')\n",
        "plt.ylabel('Retail Sales')\n",
        "plt.xlabel('Period')\n",
        "plt.legend()\n",
        "plt.show();"
      ],
      "metadata": {
        "id": "zzaw7nht7TM-"
      },
      "execution_count": null,
      "outputs": []
    }
  ]
}