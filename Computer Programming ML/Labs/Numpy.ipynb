{
  "nbformat": 4,
  "nbformat_minor": 0,
  "metadata": {
    "colab": {
      "provenance": []
    },
    "kernelspec": {
      "name": "python3",
      "display_name": "Python 3"
    },
    "language_info": {
      "name": "python"
    }
  },
  "cells": [
    {
      "cell_type": "code",
      "execution_count": null,
      "metadata": {
        "colab": {
          "base_uri": "https://localhost:8080/"
        },
        "id": "RqxPThGwOayl",
        "outputId": "8396333a-e061-4878-afaf-01aea9cbba7a"
      },
      "outputs": [
        {
          "output_type": "stream",
          "name": "stdout",
          "text": [
            "[1 2 3]\n",
            "<class 'numpy.ndarray'>\n"
          ]
        }
      ],
      "source": [
        "import numpy as np\n",
        "test = np.array([1,2,3])\n",
        "print(test)\n",
        "print(type(test))"
      ]
    },
    {
      "cell_type": "code",
      "source": [
        "#Row vector\n",
        "a = np.array([1,2,3,4,5])\n",
        "print(a)\n",
        "print(a.shape) #Number of dimensions\n",
        "print(a.size)\n",
        "print(a[0])"
      ],
      "metadata": {
        "colab": {
          "base_uri": "https://localhost:8080/"
        },
        "id": "70lhS1jQPxBN",
        "outputId": "154ee82b-485b-4a09-f450-c07a7c0a2e03"
      },
      "execution_count": null,
      "outputs": [
        {
          "output_type": "stream",
          "name": "stdout",
          "text": [
            "[1 2 3 4 5]\n",
            "(5,)\n",
            "5\n",
            "1\n"
          ]
        }
      ]
    },
    {
      "cell_type": "code",
      "source": [
        "#Colunm vector\n",
        "b = np.array([[1],[2],[5]])\n",
        "print(b)\n",
        "print(b.shape)\n",
        "print(b.size)"
      ],
      "metadata": {
        "colab": {
          "base_uri": "https://localhost:8080/"
        },
        "id": "Gzdhtk2cQ_hf",
        "outputId": "9d050873-2479-44a5-b230-0fe2efb74aa7"
      },
      "execution_count": null,
      "outputs": [
        {
          "output_type": "stream",
          "name": "stdout",
          "text": [
            "[[1]\n",
            " [2]\n",
            " [5]]\n",
            "(3, 1)\n",
            "3\n"
          ]
        }
      ]
    },
    {
      "cell_type": "code",
      "source": [
        "#Vector generation : arrange(start, stop, step)\n",
        "one2tenVector = np.arange(1,11)\n",
        "print(one2tenVector)\n",
        "oddNumber = np.arange(1,11,2)\n",
        "print(oddNumber)\n",
        "\n",
        "vec = np.arange(10,0,-1)\n",
        "print(vec)"
      ],
      "metadata": {
        "colab": {
          "base_uri": "https://localhost:8080/"
        },
        "id": "Urc4kvpsRtsv",
        "outputId": "93b33256-a883-48ff-f1c3-6bed11ba916e"
      },
      "execution_count": null,
      "outputs": [
        {
          "output_type": "stream",
          "name": "stdout",
          "text": [
            "[ 1  2  3  4  5  6  7  8  9 10]\n",
            "[1 3 5 7 9]\n",
            "[10  9  8  7  6  5  4  3  2  1]\n"
          ]
        }
      ]
    },
    {
      "cell_type": "code",
      "source": [
        "#Vector generation: linspace\n",
        "y = np.linspace(1,100,100)\n",
        "print(y)\n",
        "print(y.size)\n",
        "print(type(y[0]))\n",
        "\n",
        "#int\n",
        "y1 = np.linspace(1,100,100, dtype=int)\n",
        "print(y1)"
      ],
      "metadata": {
        "colab": {
          "base_uri": "https://localhost:8080/"
        },
        "id": "PkzFmEh1TKYC",
        "outputId": "65de952d-a52e-408c-eb4d-a85326cfa88b"
      },
      "execution_count": null,
      "outputs": [
        {
          "output_type": "stream",
          "name": "stdout",
          "text": [
            "[  1.   2.   3.   4.   5.   6.   7.   8.   9.  10.  11.  12.  13.  14.\n",
            "  15.  16.  17.  18.  19.  20.  21.  22.  23.  24.  25.  26.  27.  28.\n",
            "  29.  30.  31.  32.  33.  34.  35.  36.  37.  38.  39.  40.  41.  42.\n",
            "  43.  44.  45.  46.  47.  48.  49.  50.  51.  52.  53.  54.  55.  56.\n",
            "  57.  58.  59.  60.  61.  62.  63.  64.  65.  66.  67.  68.  69.  70.\n",
            "  71.  72.  73.  74.  75.  76.  77.  78.  79.  80.  81.  82.  83.  84.\n",
            "  85.  86.  87.  88.  89.  90.  91.  92.  93.  94.  95.  96.  97.  98.\n",
            "  99. 100.]\n",
            "100\n",
            "<class 'numpy.float64'>\n",
            "[  1   2   3   4   5   6   7   8   9  10  11  12  13  14  15  16  17  18\n",
            "  19  20  21  22  23  24  25  26  27  28  29  30  31  32  33  34  35  36\n",
            "  37  38  39  40  41  42  43  44  45  46  47  48  49  50  51  52  53  54\n",
            "  55  56  57  58  59  60  61  62  63  64  65  66  67  68  69  70  71  72\n",
            "  73  74  75  76  77  78  79  80  81  82  83  84  85  86  87  88  89  90\n",
            "  91  92  93  94  95  96  97  98  99 100]\n"
          ]
        }
      ]
    },
    {
      "cell_type": "code",
      "source": [
        "#Create matrices\n",
        "A = np.array([[1,2,3],[1,2,-5],[2,3,4]])\n",
        "print(A)\n",
        "print(A.shape)\n",
        "print(A.size)\n",
        "print(A[1][2])\n",
        "print(A[1, 2])"
      ],
      "metadata": {
        "colab": {
          "base_uri": "https://localhost:8080/"
        },
        "id": "FrtreWLJUoY2",
        "outputId": "4cb7a227-7b01-4897-b69a-9fcfb3c18064"
      },
      "execution_count": null,
      "outputs": [
        {
          "output_type": "stream",
          "name": "stdout",
          "text": [
            "[[ 1  2  3]\n",
            " [ 1  2 -5]\n",
            " [ 2  3  4]]\n",
            "(3, 3)\n",
            "9\n",
            "-5\n",
            "-5\n"
          ]
        }
      ]
    },
    {
      "cell_type": "code",
      "source": [
        "#Generating matrices\n",
        "y1 = np.ones(5)\n",
        "print(y1)\n",
        "y2 = np.ones((3,3),dtype=int)\n",
        "print(y2)\n",
        "\n",
        "y3 = np.zeros(5)\n",
        "print(y1)\n",
        "y3 = np.zeros((3,3),dtype=int)\n",
        "print(y3)\n",
        "\n",
        "print(np.eye(3))"
      ],
      "metadata": {
        "colab": {
          "base_uri": "https://localhost:8080/"
        },
        "id": "jSYsIH6tVbDS",
        "outputId": "e2e59254-834f-43d1-fdbd-dda8f2ec51fc"
      },
      "execution_count": null,
      "outputs": [
        {
          "output_type": "stream",
          "name": "stdout",
          "text": [
            "[1. 1. 1. 1. 1.]\n",
            "[[1 1 1]\n",
            " [1 1 1]\n",
            " [1 1 1]]\n",
            "[1. 1. 1. 1. 1.]\n",
            "[[0 0 0]\n",
            " [0 0 0]\n",
            " [0 0 0]]\n",
            "[[1. 0. 0.]\n",
            " [0. 1. 0.]\n",
            " [0. 0. 1.]]\n"
          ]
        }
      ]
    },
    {
      "cell_type": "code",
      "source": [
        "# rand()\n",
        "print(np.random.rand(5))\n",
        "print(np.random.rand(3,3))\n",
        "\n",
        "\n",
        "print(np.random.randn(5,5))\n",
        "\n",
        "np.random.seed(2)\n",
        "print(np.random.randint(1,100,10))\n",
        "print(np.random.randint(1,100,(3,3)))\n"
      ],
      "metadata": {
        "colab": {
          "base_uri": "https://localhost:8080/"
        },
        "id": "7fBC9m-kW1Nw",
        "outputId": "12c59bda-a759-4531-f372-c940a2be78b5"
      },
      "execution_count": null,
      "outputs": [
        {
          "output_type": "stream",
          "name": "stdout",
          "text": [
            "[0.20464863 0.61927097 0.29965467 0.26682728 0.62113383]\n",
            "[[0.52914209 0.13457995 0.51357812]\n",
            " [0.18443987 0.78533515 0.85397529]\n",
            " [0.49423684 0.84656149 0.07964548]]\n",
            "[[-7.47870949e-01  9.02525097e-03 -8.78107893e-01 -1.56434170e-01\n",
            "   2.56570452e-01]\n",
            " [-9.88779049e-01 -3.38821966e-01 -2.36184031e-01 -6.37655012e-01\n",
            "  -1.18761229e+00]\n",
            " [-1.42121723e+00 -1.53495196e-01 -2.69056960e-01  2.23136679e+00\n",
            "  -2.43476758e+00]\n",
            " [ 1.12726505e-01  3.70444537e-01  1.35963386e+00  5.01857207e-01\n",
            "  -8.44213704e-01]\n",
            " [ 9.76147160e-06  5.42352572e-01 -3.13508197e-01  7.71011738e-01\n",
            "  -1.86809065e+00]]\n",
            "[41 16 73 23 44 83 76  8 35 50]\n",
            "[[96 76 86]\n",
            " [48 64 32]\n",
            " [91 21 38]]\n"
          ]
        }
      ]
    },
    {
      "cell_type": "code",
      "source": [
        "A = np.arange( 1,17).reshape(4,4)\n",
        "print(A)\n",
        "print(A[2,:])\n",
        "print(A[:,3])\n",
        "print(A[2,3])\n",
        "\n",
        "#Sub matrices\n",
        "y = A[1:3, 1:3]\n",
        "\n",
        "print(y)\n",
        "y[:,:] = 0\n",
        "print(y)\n",
        "print(A)\n",
        "\n",
        "Z = A[1:3, 1:3].copy()\n",
        "print(Z)"
      ],
      "metadata": {
        "colab": {
          "base_uri": "https://localhost:8080/"
        },
        "id": "FprCxoBAZNNo",
        "outputId": "cad8307d-6cd7-4e70-ac5f-9f3f154cec78"
      },
      "execution_count": null,
      "outputs": [
        {
          "output_type": "stream",
          "name": "stdout",
          "text": [
            "[[ 1  2  3  4]\n",
            " [ 5  6  7  8]\n",
            " [ 9 10 11 12]\n",
            " [13 14 15 16]]\n",
            "[ 9 10 11 12]\n",
            "[ 4  8 12 16]\n",
            "12\n",
            "[[ 6  7]\n",
            " [10 11]]\n",
            "[[0 0]\n",
            " [0 0]]\n",
            "[[ 1  2  3  4]\n",
            " [ 5  0  0  8]\n",
            " [ 9  0  0 12]\n",
            " [13 14 15 16]]\n",
            "[[0 0]\n",
            " [0 0]]\n"
          ]
        }
      ]
    },
    {
      "cell_type": "code",
      "source": [
        "#Fancy Indexing/ Bolean valued indexing\n",
        "a= np.linspace(0,1,11)\n",
        "print(a)\n",
        "print(a>0.5)\n",
        "print(a[a>0.5])"
      ],
      "metadata": {
        "colab": {
          "base_uri": "https://localhost:8080/"
        },
        "id": "6WmqJvkqcWxi",
        "outputId": "8e6a63fb-528f-414c-c308-2c4bee845380"
      },
      "execution_count": null,
      "outputs": [
        {
          "output_type": "stream",
          "name": "stdout",
          "text": [
            "[0.  0.1 0.2 0.3 0.4 0.5 0.6 0.7 0.8 0.9 1. ]\n",
            "[False False False False False False  True  True  True  True  True]\n",
            "[0.6 0.7 0.8 0.9 1. ]\n"
          ]
        }
      ]
    },
    {
      "cell_type": "code",
      "source": [
        "print(np.random.rand(12).reshape(3,4))\n"
      ],
      "metadata": {
        "colab": {
          "base_uri": "https://localhost:8080/"
        },
        "id": "9FnxwLVwdZZf",
        "outputId": "a25aff07-5a86-4e21-ed9d-d492c38e4ec3"
      },
      "execution_count": null,
      "outputs": [
        {
          "output_type": "stream",
          "name": "stdout",
          "text": [
            "[[0.68302599 0.49856117 0.58679698 0.71975423]\n",
            " [0.25849809 0.54620732 0.40730783 0.17698462]\n",
            " [0.96963241 0.29701836 0.28786882 0.11619332]]\n"
          ]
        }
      ]
    },
    {
      "cell_type": "code",
      "source": [
        "A = np.arange(1,10).reshape(3,3)\n",
        "print(A)\n",
        "B = np.arange(9, 0,-1).reshape(3,3)\n",
        "print(B)\n",
        "\n",
        "print(np.concatenate((A,B)))\n",
        "print(np.vstack((A,B)))\n",
        "\n",
        "print(np.concatenate((A,B),axis=1))\n",
        "print(np.hstack((A,B)))"
      ],
      "metadata": {
        "colab": {
          "base_uri": "https://localhost:8080/"
        },
        "id": "aPIrXEwwdklY",
        "outputId": "39f0548c-6820-40ef-b544-2820d9fa4b9b"
      },
      "execution_count": null,
      "outputs": [
        {
          "output_type": "stream",
          "name": "stdout",
          "text": [
            "[[1 2 3]\n",
            " [4 5 6]\n",
            " [7 8 9]]\n",
            "[[9 8 7]\n",
            " [6 5 4]\n",
            " [3 2 1]]\n",
            "[[1 2 3]\n",
            " [4 5 6]\n",
            " [7 8 9]\n",
            " [9 8 7]\n",
            " [6 5 4]\n",
            " [3 2 1]]\n",
            "[[1 2 3]\n",
            " [4 5 6]\n",
            " [7 8 9]\n",
            " [9 8 7]\n",
            " [6 5 4]\n",
            " [3 2 1]]\n",
            "[[1 2 3 9 8 7]\n",
            " [4 5 6 6 5 4]\n",
            " [7 8 9 3 2 1]]\n",
            "[[1 2 3 9 8 7]\n",
            " [4 5 6 6 5 4]\n",
            " [7 8 9 3 2 1]]\n"
          ]
        }
      ]
    },
    {
      "cell_type": "code",
      "source": [
        "#Transpose\n",
        "\n",
        "print(A)\n",
        "print(A.T)"
      ],
      "metadata": {
        "colab": {
          "base_uri": "https://localhost:8080/"
        },
        "id": "eoF8oO3OeQxb",
        "outputId": "7cc2cb16-b0ca-41e6-8212-542e524fb2f1"
      },
      "execution_count": null,
      "outputs": [
        {
          "output_type": "stream",
          "name": "stdout",
          "text": [
            "[[1 2 3]\n",
            " [4 5 6]\n",
            " [7 8 9]]\n",
            "[[1 4 7]\n",
            " [2 5 8]\n",
            " [3 6 9]]\n"
          ]
        }
      ]
    },
    {
      "cell_type": "code",
      "source": [
        "#Elementary functions\n",
        "print(A)\n",
        "print(B)\n",
        "print(np.add(A,B))\n",
        "print(np.subtract(A,B))\n",
        "print(np.multiply(A,B))"
      ],
      "metadata": {
        "colab": {
          "base_uri": "https://localhost:8080/"
        },
        "id": "3RZK3kRnfk6L",
        "outputId": "eb3d843a-62b6-4473-fcaf-141f2ac09b37"
      },
      "execution_count": null,
      "outputs": [
        {
          "output_type": "stream",
          "name": "stdout",
          "text": [
            "[[1 2 3]\n",
            " [4 5 6]\n",
            " [7 8 9]]\n",
            "[[9 8 7]\n",
            " [6 5 4]\n",
            " [3 2 1]]\n",
            "[[10 10 10]\n",
            " [10 10 10]\n",
            " [10 10 10]]\n",
            "[[-8 -6 -4]\n",
            " [-2  0  2]\n",
            " [ 4  6  8]]\n",
            "[[ 9 16 21]\n",
            " [24 25 24]\n",
            " [21 16  9]]\n"
          ]
        }
      ]
    },
    {
      "cell_type": "code",
      "source": [
        "print(np.dot(A,B))"
      ],
      "metadata": {
        "colab": {
          "base_uri": "https://localhost:8080/"
        },
        "id": "yur64saef9H0",
        "outputId": "02524445-09b0-4692-be21-ae6fd048c495"
      },
      "execution_count": null,
      "outputs": [
        {
          "output_type": "stream",
          "name": "stdout",
          "text": [
            "[[ 30  24  18]\n",
            " [ 84  69  54]\n",
            " [138 114  90]]\n"
          ]
        }
      ]
    },
    {
      "cell_type": "code",
      "source": [
        "X = np.arange(1,17).reshape(4,4)\n",
        "print(X)\n",
        "print(np.mean(X))\n",
        "print(np.mean(X, axis=0))  # Row wise mean\n",
        "print(np.mean(X, axis=1))  # Colunm wise mean\n",
        "print(np.cov(X))\n",
        "print(np.sum(X))\n",
        "print(np.sum(X, axis=0))\n",
        "print(np.sum(X, axis=1))"
      ],
      "metadata": {
        "colab": {
          "base_uri": "https://localhost:8080/"
        },
        "id": "4oan6o_EhN00",
        "outputId": "8c741832-ab02-447b-b240-d95065aecb7c"
      },
      "execution_count": null,
      "outputs": [
        {
          "output_type": "stream",
          "name": "stdout",
          "text": [
            "[[ 1  2  3  4]\n",
            " [ 5  6  7  8]\n",
            " [ 9 10 11 12]\n",
            " [13 14 15 16]]\n",
            "8.5\n",
            "[ 7.  8.  9. 10.]\n",
            "[ 2.5  6.5 10.5 14.5]\n",
            "[[1.66666667 1.66666667 1.66666667 1.66666667]\n",
            " [1.66666667 1.66666667 1.66666667 1.66666667]\n",
            " [1.66666667 1.66666667 1.66666667 1.66666667]\n",
            " [1.66666667 1.66666667 1.66666667 1.66666667]]\n",
            "136\n",
            "[28 32 36 40]\n",
            "[10 26 42 58]\n"
          ]
        }
      ]
    },
    {
      "cell_type": "code",
      "source": [
        "#Numerical equations\n",
        "A = np.array([[1,2],[1,-1]])\n",
        "print(A)\n",
        "B = np.array([[10],[7]])\n",
        "print(np.linalg.solve(A,B))"
      ],
      "metadata": {
        "colab": {
          "base_uri": "https://localhost:8080/"
        },
        "id": "30SVxnbnihJF",
        "outputId": "9271a3a7-ee85-4081-8ff7-92b9854e3b7d"
      },
      "execution_count": null,
      "outputs": [
        {
          "output_type": "stream",
          "name": "stdout",
          "text": [
            "[[ 1  2]\n",
            " [ 1 -1]]\n",
            "[[8.]\n",
            " [1.]]\n"
          ]
        }
      ]
    }
  ]
}